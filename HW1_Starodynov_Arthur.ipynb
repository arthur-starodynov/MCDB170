{
 "cells": [
  {
   "cell_type": "code",
   "execution_count": 1,
   "metadata": {},
   "outputs": [],
   "source": [
    "from random import seed\n",
    "from random import random\n",
    "from time import time\n",
    "from math import ceil\n",
    "seed(time())\n",
    "def dice():\n",
    "    a = ceil(random()*4)\n",
    "    if a>0:\n",
    "        return a\n",
    "    else:\n",
    "        return dice()"
   ]
  },
  {
   "cell_type": "code",
   "execution_count": 2,
   "metadata": {},
   "outputs": [
    {
     "data": {
      "text/plain": [
       "1"
      ]
     },
     "execution_count": 2,
     "metadata": {},
     "output_type": "execute_result"
    }
   ],
   "source": [
    "dice()"
   ]
  },
  {
   "cell_type": "code",
   "execution_count": 3,
   "metadata": {},
   "outputs": [
    {
     "name": "stdout",
     "output_type": "stream",
     "text": [
      "4\n"
     ]
    }
   ],
   "source": [
    "n = dice() \n",
    "print(n)"
   ]
  },
  {
   "cell_type": "code",
   "execution_count": 49,
   "metadata": {},
   "outputs": [
    {
     "name": "stdout",
     "output_type": "stream",
     "text": [
      "4\n",
      "3\n",
      "2\n",
      "2\n",
      "3\n",
      "3\n",
      "4\n",
      "4\n",
      "3\n",
      "2\n",
      "2\n",
      "3\n",
      "4\n",
      "1\n",
      "3\n",
      "4\n",
      "3\n",
      "4\n",
      "4\n",
      "4\n",
      "1\n",
      "4\n",
      "1\n",
      "1\n",
      "1\n",
      "1\n",
      "1\n",
      "4\n",
      "3\n",
      "4\n",
      "3\n",
      "1\n",
      "1\n",
      "3\n",
      "2\n",
      "4\n",
      "1\n",
      "2\n",
      "1\n",
      "4\n",
      "1\n",
      "2\n",
      "4\n",
      "1\n",
      "3\n",
      "1\n",
      "2\n",
      "3\n",
      "3\n",
      "4\n",
      "4\n",
      "2\n",
      "2\n",
      "3\n",
      "1\n",
      "2\n",
      "2\n",
      "2\n",
      "3\n",
      "1\n",
      "3\n",
      "1\n",
      "3\n",
      "2\n",
      "2\n",
      "2\n",
      "1\n",
      "1\n",
      "1\n",
      "4\n",
      "4\n",
      "3\n",
      "3\n",
      "4\n",
      "3\n",
      "2\n",
      "2\n",
      "4\n",
      "2\n",
      "2\n",
      "3\n",
      "4\n",
      "1\n",
      "3\n",
      "1\n",
      "2\n",
      "2\n",
      "2\n",
      "4\n",
      "2\n",
      "2\n",
      "2\n",
      "3\n",
      "1\n",
      "3\n",
      "1\n",
      "4\n",
      "2\n",
      "4\n",
      "2\n"
     ]
    }
   ],
   "source": [
    "#HW Problem #1\n",
    "\n",
    "for x in range(0,101): \n",
    "    print (dice())"
   ]
  },
  {
   "cell_type": "code",
   "execution_count": 4,
   "metadata": {},
   "outputs": [
    {
     "name": "stdout",
     "output_type": "stream",
     "text": [
      "4\n",
      "3\n",
      "2\n",
      "1\n",
      "3\n",
      "2\n",
      "2\n",
      "4\n",
      "3\n",
      "4\n",
      "3\n",
      "3\n",
      "3\n",
      "3\n",
      "4\n",
      "3\n",
      "4\n",
      "4\n",
      "1\n",
      "4\n",
      "4\n",
      "4\n",
      "1\n",
      "4\n",
      "2\n",
      "4\n",
      "3\n",
      "3\n",
      "2\n",
      "2\n",
      "1\n",
      "1\n",
      "2\n",
      "1\n",
      "3\n",
      "1\n",
      "4\n",
      "2\n",
      "3\n",
      "1\n",
      "3\n",
      "1\n",
      "4\n",
      "3\n",
      "4\n",
      "4\n",
      "2\n",
      "1\n",
      "3\n",
      "4\n",
      "3\n",
      "2\n",
      "2\n",
      "1\n",
      "4\n",
      "2\n",
      "3\n",
      "3\n",
      "2\n",
      "3\n",
      "2\n",
      "2\n",
      "2\n",
      "2\n",
      "1\n",
      "4\n",
      "1\n",
      "3\n",
      "2\n",
      "4\n",
      "3\n",
      "1\n",
      "4\n",
      "3\n",
      "2\n",
      "3\n",
      "2\n",
      "3\n",
      "3\n",
      "3\n",
      "4\n",
      "2\n",
      "2\n",
      "4\n",
      "4\n",
      "1\n",
      "4\n",
      "3\n",
      "2\n",
      "1\n",
      "1\n",
      "3\n",
      "4\n",
      "1\n",
      "1\n",
      "3\n",
      "3\n",
      "4\n",
      "1\n",
      "2\n",
      "2\n",
      "Number 1 occured 24 times \n",
      "Number 2 occured 18 times \n",
      "Number 3 occured 13 times \n",
      "Number 4 occured 46 times \n",
      "\n"
     ]
    }
   ],
   "source": [
    "#HW Problem #2 \n",
    "a = 0 \n",
    "b = 0 \n",
    "c = 0 \n",
    "d = 0\n",
    "\n",
    "for x in range(0,101): \n",
    "    print(dice())\n",
    "    if dice() == 1:\n",
    "        a += 1\n",
    "    elif dice() == 2:\n",
    "        b += 1\n",
    "    elif dice() == 3: \n",
    "        c += 1 \n",
    "    else:\n",
    "        d += 1\n",
    "\n",
    "print(\"Number 1 occured\", a, \"times \\nNumber 2 occured\", b, \"times \\nNumber 3 occured\", c, \"times \\nNumber 4 occured\", d, \"times \\n\")\n"
   ]
  },
  {
   "cell_type": "code",
   "execution_count": 5,
   "metadata": {},
   "outputs": [
    {
     "name": "stdout",
     "output_type": "stream",
     "text": [
      "G\n"
     ]
    }
   ],
   "source": [
    "# HW Problem #3 \n",
    "\n",
    "a = dice()\n",
    "if a == 1:\n",
    "    print(\"A\")\n",
    "elif a == 2:\n",
    "    print (\"T\")\n",
    "elif a == 3: \n",
    "    print (\"C\")\n",
    "elif a == 4:\n",
    "    print(\"G\")"
   ]
  },
  {
   "cell_type": "code",
   "execution_count": 6,
   "metadata": {},
   "outputs": [
    {
     "name": "stdout",
     "output_type": "stream",
     "text": [
      "TCTACCCGACTCCTTGAGCTCCGGTTTAGCGGTGCATCGATCGAGTGCATTTTAAGCTGGCGACAATGTGATCGAGGATTTACGAGTCTTTTCGACCTAGGGTTCGATTGGGCATCCAGATGTCTTGTTGCGCATTACATGTACTACTAGGTTGTCTCCATTTGCCTCGGAAAACATGGGGACATGTCGGAATAATAAAGCCAAAGTAGAGGCACGCTCCATCGCTTTAGCGTAGCTTTATCTGGCCACGCCGTCTTCTTTCAGACAGGCATACCAATACGTCTATAGATAGGATGAAGCACCAGGCAACAATCGCCTAGCAGTTGTTGACTGTTATACGTATAGACTTAGATGTTAGGTTCCGCTACCGGCACTGGAACATAAGAATGCACGTGAGTGGCATTGGAGATTAACTTATCGTACCCGCTCGAATAGGTGAGGAGCACGCCATCTCGGCTCGTTGGTTAGGTTACGCGTGTGCCGTGGTCATAGAATACCCGT\n"
     ]
    }
   ],
   "source": [
    "#HW Problem #4 \n",
    "\n",
    "seq = \"\"\n",
    "for a in range(0,501):\n",
    "    s = dice()\n",
    "    if s == 1:\n",
    "        s = \"A\"\n",
    "        seq += s\n",
    "    elif s == 2:\n",
    "        s = \"T\"\n",
    "        seq += s\n",
    "    elif s == 3:\n",
    "        s =  \"C\"\n",
    "        seq += s\n",
    "    elif s == 4:\n",
    "        s = \"G\"\n",
    "        seq += s\n",
    "        \n",
    "    \n",
    "print (seq)"
   ]
  },
  {
   "cell_type": "code",
   "execution_count": 7,
   "metadata": {},
   "outputs": [
    {
     "name": "stdout",
     "output_type": "stream",
     "text": [
      "7\n"
     ]
    }
   ],
   "source": [
    "# HW Problem #5 \n",
    "\n",
    "substring = \"ACT\"\n",
    "count_ACT = seq.count(substring)\n",
    "print(count_ACT)\n",
    "      \n",
    "    "
   ]
  },
  {
   "cell_type": "code",
   "execution_count": 8,
   "metadata": {},
   "outputs": [
    {
     "data": {
      "text/plain": [
       "125"
      ]
     },
     "execution_count": 8,
     "metadata": {},
     "output_type": "execute_result"
    }
   ],
   "source": [
    "#HW Problem #6 \n",
    "\n",
    "seq1 = \"\"\n",
    "seq2 = \"\"\n",
    "for a in range(0,501):\n",
    "    s = dice()\n",
    "    if s == 1:\n",
    "        s = \"A\"\n",
    "        seq1 += s\n",
    "    elif s == 2:\n",
    "        s = \"T\"\n",
    "        seq1 += s\n",
    "    elif s == 3:\n",
    "        s =  \"C\"\n",
    "        seq1 += s\n",
    "    elif s == 4:\n",
    "        s = \"G\"\n",
    "        seq1 += s\n",
    "        \n",
    "\n",
    "for a in range(0,501): \n",
    "    s = dice()\n",
    "    if s == 1:\n",
    "        s = \"A\"\n",
    "        seq2 += s\n",
    "    elif s == 2: \n",
    "        s = \"T\"\n",
    "        seq2 += s \n",
    "    elif s == 3:\n",
    "        s = \"C\"\n",
    "        seq2 += s\n",
    "    elif s == 4:\n",
    "        s = \"G\"\n",
    "        seq2 +=s \n",
    "        \n",
    "def count_same_pos (sequence1, sequence2):    \n",
    "    count = 0\n",
    "    for i in range(len(sequence1)):\n",
    "        if sequence1[i] == sequence2[i]:\n",
    "            count += 1\n",
    "    return (count)\n",
    "\n",
    "count_same_pos(seq1, seq2)"
   ]
  },
  {
   "cell_type": "code",
   "execution_count": null,
   "metadata": {},
   "outputs": [],
   "source": []
  }
 ],
 "metadata": {
  "kernelspec": {
   "display_name": "Python 3",
   "language": "python",
   "name": "python3"
  },
  "language_info": {
   "codemirror_mode": {
    "name": "ipython",
    "version": 3
   },
   "file_extension": ".py",
   "mimetype": "text/x-python",
   "name": "python",
   "nbconvert_exporter": "python",
   "pygments_lexer": "ipython3",
   "version": "3.7.4"
  }
 },
 "nbformat": 4,
 "nbformat_minor": 2
}
