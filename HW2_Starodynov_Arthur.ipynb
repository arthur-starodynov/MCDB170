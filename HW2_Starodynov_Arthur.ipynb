{
 "cells": [
  {
   "cell_type": "code",
   "execution_count": 1,
   "metadata": {},
   "outputs": [],
   "source": [
    "def sum_sqr_list(l):\n",
    "       \n",
    "    if type(l)!= type(list()):\n",
    "        print (\"Error: The argument is not a list\")\n",
    "        return [0,0]\n",
    "    else:\n",
    "        sqr_sum = 0 \n",
    "    for x in l:\n",
    "        sqr_sum += (x * x)  \n",
    "\n",
    "    return [sum(l), sqr_sum]"
   ]
  },
  {
   "cell_type": "code",
   "execution_count": 2,
   "metadata": {},
   "outputs": [
    {
     "name": "stdout",
     "output_type": "stream",
     "text": [
      "Error: The argument is not a list\n",
      "[0, 0]\n",
      "[15, 55]\n"
     ]
    }
   ],
   "source": [
    "l = {1, 2, 3, 4, 5}\n",
    "a = sum_sqr_list(l)\n",
    "print(a)\n",
    "\n",
    "l = [1, 2, 3, 4, 5]\n",
    "a = sum_sqr_list(l)\n",
    "print(a)"
   ]
  },
  {
   "cell_type": "code",
   "execution_count": 3,
   "metadata": {},
   "outputs": [],
   "source": [
    "def make_dict(keys, values):\n",
    "    if len(keys) != len(values):\n",
    "        print(\"Error: the lengths of two lists are not the same\")        \n",
    "    else:\n",
    "        dictionary = {}\n",
    "        for key in keys:\n",
    "            for value in values:\n",
    "                dictionary[key] = value\n",
    "                values.remove(value)\n",
    "                break\n",
    "    return dictionary\n"
   ]
  },
  {
   "cell_type": "code",
   "execution_count": 4,
   "metadata": {},
   "outputs": [
    {
     "name": "stdout",
     "output_type": "stream",
     "text": [
      "{'a': 1, 'b': 2, 'c': 3, 'd': 4}\n",
      " \n",
      "{'A': [1, 2, 3], 'B': ['n', 'm', 'p', 'q', 'x'], 'C': ['USA', 'China', 'Chile', 'Kenya']}\n"
     ]
    }
   ],
   "source": [
    "k = ['a','b','c','d']\n",
    "v = [1,2,3,4]\n",
    "d = make_dict(k,v)\n",
    "print(d)\n",
    "print(' ')\n",
    "\n",
    "k = ['A','B','C']\n",
    "v = [[1,2,3], ['n','m','p','q','x'], ['USA', 'China', 'Chile', 'Kenya']]\n",
    "d = make_dict(k,v)\n",
    "print(d)"
   ]
  },
  {
   "cell_type": "code",
   "execution_count": 5,
   "metadata": {},
   "outputs": [],
   "source": [
    "def append_n_elements_from_2nd_to_1st(la, lb, n):\n",
    "    l1 = len(la)\n",
    "    l2 = len(lb)\n",
    "    if n>l2:\n",
    "        print(\"Error: the 2nd list must have at least n(\"+str(n)+\") number of elements.\")\n",
    "    else:\n",
    "        for i in range(l2-1,l2-n-1,-1):\n",
    "            la.append(lb[i])\n",
    "            lb.pop(i)\n",
    "\n",
    "    "
   ]
  },
  {
   "cell_type": "code",
   "execution_count": 6,
   "metadata": {},
   "outputs": [
    {
     "name": "stdout",
     "output_type": "stream",
     "text": [
      "[1, 2, 3, 9, 8, 7, 6]\n",
      "[4, 5]\n",
      " \n",
      "Error: the 2nd list must have at least n(6) number of elements.\n",
      "[1, 2, 3, 4, 5, 6]\n",
      "[7, 8, 9]\n"
     ]
    }
   ],
   "source": [
    "A = [1,2,3]\n",
    "B = [4,5,6,7,8,9]\n",
    "append_n_elements_from_2nd_to_1st(A, B, 4)\n",
    "print(A)\n",
    "print(B)\n",
    "print(' ')\n",
    "\n",
    "A = [1,2,3,4,5,6]\n",
    "B = [7,8,9]\n",
    "append_n_elements_from_2nd_to_1st(A, B, 6)\n",
    "print(A)\n",
    "print(B)"
   ]
  },
  {
   "cell_type": "code",
   "execution_count": 7,
   "metadata": {},
   "outputs": [],
   "source": [
    "class petClass():\n",
    "    def __init__(self, name, nick, color=\"brown\"):\n",
    "        self.name = name\n",
    "        self.nick = \"no nick yet\"\n",
    "        self.color = color\n",
    "        \n",
    "    \n",
    "    def petColor(self):\n",
    "        print(self.name, 'is', self.color)\n",
    "        \n",
    "    def dye(self, color):\n",
    "        self.color = color\n",
    "        self.petColor()\n",
    "        \n",
    "    def changeName(self, new_name):\n",
    "        self.name = new_name\n",
    "        \n",
    "    \n",
    "    def nickName(self,nick):\n",
    "        self.nick = nick"
   ]
  },
  {
   "cell_type": "code",
   "execution_count": 8,
   "metadata": {},
   "outputs": [
    {
     "name": "stdout",
     "output_type": "stream",
     "text": [
      "Spot\n",
      " \n",
      "Cow\n",
      " \n",
      "no nick yet\n",
      "Ticky\n",
      " \n"
     ]
    }
   ],
   "source": [
    "myDog = petClass('Spot', 'black and white')\n",
    "print(myDog.name)\n",
    "print(\" \")\n",
    "\n",
    "myDog.changeName('Cow')\n",
    "print(myDog.name)\n",
    "print(\" \")\n",
    "\n",
    "print(myDog.nick)\n",
    "myDog.nickName('Ticky')\n",
    "print(myDog.nick)\n",
    "print(\" \")"
   ]
  },
  {
   "cell_type": "code",
   "execution_count": 9,
   "metadata": {},
   "outputs": [
    {
     "ename": "ModuleNotFoundError",
     "evalue": "No module named 'HW2_Starodynov_Arthur'",
     "output_type": "error",
     "traceback": [
      "\u001b[1;31m---------------------------------------------------------------------------\u001b[0m",
      "\u001b[1;31mModuleNotFoundError\u001b[0m                       Traceback (most recent call last)",
      "\u001b[1;32m<ipython-input-9-ba467d349149>\u001b[0m in \u001b[0;36m<module>\u001b[1;34m\u001b[0m\n\u001b[1;32m----> 1\u001b[1;33m \u001b[1;32mimport\u001b[0m \u001b[0mHW2_Starodynov_Arthur\u001b[0m \u001b[1;32mas\u001b[0m \u001b[0mhw\u001b[0m  \u001b[1;31m# Change this to your name\u001b[0m\u001b[1;33m\u001b[0m\u001b[1;33m\u001b[0m\u001b[0m\n\u001b[0m\u001b[0;32m      2\u001b[0m \u001b[0mdir\u001b[0m\u001b[1;33m(\u001b[0m\u001b[0mhw\u001b[0m\u001b[1;33m)\u001b[0m\u001b[1;33m\u001b[0m\u001b[1;33m\u001b[0m\u001b[0m\n",
      "\u001b[1;31mModuleNotFoundError\u001b[0m: No module named 'HW2_Starodynov_Arthur'"
     ]
    }
   ],
   "source": []
  },
  {
   "cell_type": "code",
   "execution_count": null,
   "metadata": {},
   "outputs": [],
   "source": []
  },
  {
   "cell_type": "code",
   "execution_count": null,
   "metadata": {},
   "outputs": [],
   "source": []
  },
  {
   "cell_type": "code",
   "execution_count": null,
   "metadata": {},
   "outputs": [],
   "source": []
  },
  {
   "cell_type": "code",
   "execution_count": null,
   "metadata": {},
   "outputs": [],
   "source": []
  },
  {
   "cell_type": "code",
   "execution_count": null,
   "metadata": {},
   "outputs": [],
   "source": []
  },
  {
   "cell_type": "code",
   "execution_count": null,
   "metadata": {},
   "outputs": [],
   "source": []
  }
 ],
 "metadata": {
  "kernelspec": {
   "display_name": "Python 3",
   "language": "python",
   "name": "python3"
  },
  "language_info": {
   "codemirror_mode": {
    "name": "ipython",
    "version": 3
   },
   "file_extension": ".py",
   "mimetype": "text/x-python",
   "name": "python",
   "nbconvert_exporter": "python",
   "pygments_lexer": "ipython3",
   "version": "3.7.4"
  }
 },
 "nbformat": 4,
 "nbformat_minor": 2
}
